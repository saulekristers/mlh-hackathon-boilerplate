{
  "nbformat": 4,
  "nbformat_minor": 0,
  "metadata": {
    "colab": {
      "provenance": [],
      "authorship_tag": "ABX9TyP9CI+PRslUQpz3Eae03OrA",
      "include_colab_link": true
    },
    "kernelspec": {
      "name": "python3",
      "display_name": "Python 3"
    },
    "language_info": {
      "name": "python"
    }
  },
  "cells": [
    {
      "cell_type": "markdown",
      "metadata": {
        "id": "view-in-github",
        "colab_type": "text"
      },
      "source": [
        "<a href=\"https://colab.research.google.com/github/saulekristers/mlh-hackathon-boilerplate/blob/gh-pages/midtermkristers.ipynb\" target=\"_parent\"><img src=\"https://colab.research.google.com/assets/colab-badge.svg\" alt=\"Open In Colab\"/></a>"
      ]
    },
    {
      "cell_type": "markdown",
      "source": [
        "**1. What is the time algorithmic complexity of the following recurrence? Use appropriate notation in your answer.**\n",
        "\n",
        "T(n) = 36T(n/6) + n^2 * log n  (note: n^2 == n*n )"
      ],
      "metadata": {
        "id": "82abPwY5XEuO"
      }
    },
    {
      "cell_type": "code",
      "execution_count": null,
      "metadata": {
        "id": "YNCkj4vWTSR5"
      },
      "outputs": [],
      "source": [
        "T(n) = 36T(n/6) + n^2 * log n  (note: n^2 == n*n )\n",
        "\n",
        "Using master theorem, it looks like the case 2 (comparing f(n) with a logoritm)\n",
        "\n",
        "In this case, a = 36, b=6. Using the logb^a, the result is 2, which needs to be put as a exponent to n, meaning that the result is n^2. \n",
        "Therefore, the Big Theta = n^2*log^0(n). \n",
        "As the k =0, the answer is n^2 * log n\n"
      ]
    },
    {
      "cell_type": "markdown",
      "source": [
        "![Screenshot 2023-03-03 at 09.22.23.png](data:image/png;base64,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)"
      ],
      "metadata": {
        "id": "1TgPLkBaWcbu"
      }
    },
    {
      "cell_type": "markdown",
      "source": [
        "**2. Middle friendly person. You are working at a social network called FriendFace. This network is quite a small one, only 15 persons and 21 bi-directional relationships as defined in file friend_face.csv**\n",
        "\n",
        "Your co-worker Roy wants you to find the average person on this network and their total friendship_score. Average person here means the one with the median(middle) person scored by their total friendship score. \n",
        "\n",
        "Total friendship score means total friendship_weigth score summed across all their friends. \n",
        "\n",
        "Example of 3 persons and 2 relationships.\n",
        "Alice,Bob 0.8\n",
        "Bob, Carol 0.7\n",
        "\n",
        "In this case Alice has a friendship Score of 0.8, Bob has a friendship score of 0.7+0.8 = 1.5  and Carol has a friendship score of 0.7. Thus the middle person here is Alice since her score is right in the middle  of 0.7, 0.8, 1.5\n",
        "\n",
        "Write an algorithm, determine its time complexity and find the answer to Roy's question."
      ],
      "metadata": {
        "id": "UEZEL2uyXMgi"
      }
    },
    {
      "cell_type": "code",
      "source": [
        "import pandas as pd\n",
        "import statistics \n",
        "\n",
        "df = pd.read_csv(r'/content/friend_face.csv')\n",
        "print(df)"
      ],
      "metadata": {
        "colab": {
          "base_uri": "https://localhost:8080/"
        },
        "id": "rLozs_5uWgj4",
        "outputId": "bfc1af43-cd71-48a8-8dd4-ae9fe94b8aa4"
      },
      "execution_count": null,
      "outputs": [
        {
          "output_type": "stream",
          "name": "stdout",
          "text": [
            "   user1_name user2_name  friendship_weight\n",
            "0       Alice        Bob                0.9\n",
            "1       Alice    Charlie                0.8\n",
            "2       Alice      David                0.6\n",
            "3         Bob    Charlie                0.7\n",
            "4         Bob        Eve                0.9\n",
            "5         Bob      Frank                0.8\n",
            "6     Charlie      David                0.5\n",
            "7     Charlie     George                0.6\n",
            "8       David      Harry                0.7\n",
            "9         Eve      Frank                0.8\n",
            "10        Eve     George                0.9\n",
            "11      Frank      Isaac                0.7\n",
            "12     George       Jack                0.8\n",
            "13      Harry      Isaac                0.6\n",
            "14      Harry       Kate                0.9\n",
            "15      Isaac      Laura                0.8\n",
            "16       Jack       Kate                0.7\n",
            "17       Kate      Laura                0.5\n",
            "18       Kate       Mike                0.9\n",
            "19      Laura     Nathan                0.8\n",
            "20     Nathan       Olga                0.7\n"
          ]
        }
      ]
    },
    {
      "cell_type": "code",
      "source": [
        "#my first thought was... this seems like the problem with the two-sum problem. \n",
        "# i firstly need to calculate the individual friend score\n",
        "# then i need to sort it\n",
        "# then i need to find the median\n",
        "\n",
        "#before doing it, my first thought was, okay, brute force, i would probably just go and create a dictionary - word & score. \n",
        "# the problem with that is the time complexity regarding the search and insertion of the list (O(n)), \n",
        "   #however, the hash table works wonders as the search and insertion is O(1). "
      ],
      "metadata": {
        "id": "m-Od-cF7ZUMo"
      },
      "execution_count": null,
      "outputs": []
    },
    {
      "cell_type": "code",
      "source": [
        "# create an empty dictionary to store friendship scores\n",
        "hash_table = {}\n",
        "\n",
        "# iterate through the DataFrame rows to populate the hash table\n",
        "for i, row in df.iterrows():\n",
        "  # extract the user1, user2, and weight from the row\n",
        "  user1, user2, weight = row\n",
        "  \n",
        "  # if the user1 is not in the friendship_scores dictionary, add it with a value of 0\n",
        "  if user1 not in hash_table:\n",
        "    hash_table[user1] = 0\n",
        "    \n",
        "  # if the user2 is not in the friendship_scores dictionary, add it with a value of 0\n",
        "  if user2 not in hash_table:\n",
        "    hash_table[user2] = 0\n",
        "    \n",
        "  # add the weight to the friendship score of user1 and user2\n",
        "  hash_table[user1] += weight\n",
        "  hash_table[user2] += weight\n",
        "\n",
        "# sort the friendship scores in ascending order\n",
        "sorted_scores= sorted(hash_table.values()) # Python uses TimSort which has a best case time complexity of O(n log n)\n",
        "\n",
        "# calculate the mean of the sorted scores\n",
        "mean = statistics.mean(sorted_scores) # the mean() method has a time complexity of O(n)\n",
        "\n",
        "# find the friendship score that is closest to the mean\n",
        "closest_to_mean = min(sorted_scores, key=lambda x: abs(x - mean)) # this is a linear search with a time complexity of O(n)\n",
        "\n",
        "# find the person with the friendship score that is closest to the mean\n",
        "keys = [k for k, v in hash_table.items() if v == closest_to_mean]\n",
        "print(\"The median person is\", keys)\n",
        "print(\"With a friendship score of\", closest_to_mean)\n",
        "\n"
      ],
      "metadata": {
        "colab": {
          "base_uri": "https://localhost:8080/"
        },
        "id": "ndtjdA0gZm-_",
        "outputId": "06321b2e-955c-4c7e-f9f8-3e0fc2fdbf82"
      },
      "execution_count": null,
      "outputs": [
        {
          "output_type": "stream",
          "name": "stdout",
          "text": [
            "The median person is ['Isaac']\n",
            "With a friendship score of 2.0999999999999996\n"
          ]
        }
      ]
    },
    {
      "cell_type": "markdown",
      "source": [
        "Time complexity of this algorithm = O(n log n), because of Python's TimSort when sorting the friendship scores. \n",
        "The calculations of the mean and finding the closest friendship score are linear searches with a time complexity of O(n).\n",
        "\n",
        "I believe that the sorting algorithm even with larger data sets would work okay, I believe that mean and finding the key could be done faster, by example divide and concqer method (stoping when it does not make sense to go further)\n",
        "\n",
        "I used chatgpt for finding a more simple closest_to_mean function, because previously I hardcoded it, but i understood that it would not work when enlarging the data set"
      ],
      "metadata": {
        "id": "3sYnWFRcnaKM"
      }
    },
    {
      "cell_type": "markdown",
      "source": [
        "**3. Your co-worker Moss wants you to find the diameter of the same social network.**\n",
        "\n",
        "https://mathworld.wolfram.com/GraphDiameter.html\n",
        "\n",
        "Just like previous task we consider the weight in calculating this score.\n",
        "\n",
        "Write an algorithm for finding the diameter. You are allowed to use existing graph algorithms."
      ],
      "metadata": {
        "id": "O3O37y_jqipG"
      }
    },
    {
      "cell_type": "code",
      "source": [],
      "metadata": {
        "id": "e_QL8eLgoZCW"
      },
      "execution_count": null,
      "outputs": []
    },
    {
      "cell_type": "markdown",
      "source": [
        "1. Initialize the diameter to be 0.\n",
        "2. For each vertex in the graph, compute the shortest path from that vertex to every other vertex, using a shortest-path algorithm like 3. Dijkstra's algorithm or Floyd-Warshall algorithm.\n",
        "4. For each shortest path found in step 2, record its length.\n",
        "5. Compute the maximum length of all recorded shortest paths.\n",
        "6. Set the diameter to be the maximum length found in step 4.\n",
        "7. If the graph is disconnected, set the diameter to infinity.\n",
        "8. Return the diameter.\n",
        "\n",
        "\n"
      ],
      "metadata": {
        "id": "UamdQKFnrSgS"
      }
    }
  ]
}